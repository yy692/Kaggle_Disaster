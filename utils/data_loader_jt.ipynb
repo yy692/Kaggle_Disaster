{
 "cells": [
  {
   "cell_type": "code",
   "execution_count": 1,
   "id": "52296249",
   "metadata": {},
   "outputs": [],
   "source": [
    "import pandas as pd\n",
    "import re"
   ]
  },
  {
   "cell_type": "code",
   "execution_count": 15,
   "id": "bd262065",
   "metadata": {},
   "outputs": [],
   "source": [
    "def data_loader(file_name):\n",
    "    #load the csv file with pandas\n",
    "    data_frame = pd.read_csv(file_name)\n",
    "    \n",
    "    #get the text column\n",
    "    clean_text = data_frame[\"text\"].tolist()\n",
    "    \n",
    "    for i in range(len(clean_text)):\n",
    "        #get rid of urls\n",
    "        clean_text[i] = re.sub(r'https?:\\/\\/\\S*', '', clean_text[i])\n",
    "        \n",
    "        #get rid of @username\n",
    "        clean_text[i] = re.sub('\\@\\S+', '', clean_text[i])\n",
    "        \n",
    "        #get rid of all special characters\n",
    "        clean_text[i] = re.sub('[^A-Za-z]+', ' ', clean_text[i])\n",
    "        \n",
    "        #get rid of two or more successive space\n",
    "        clean_text[i] = re.sub('\\s+', ' ', clean_text[i])\n",
    "        \n",
    "        #transform all capitals into lower cases\n",
    "        clean_text[i] = clean_text[i].lower()\n",
    "    \n",
    "    data_frame['clean_text_jt'] = clean_text\n",
    "    return data_frame"
   ]
  },
  {
   "cell_type": "code",
   "execution_count": 18,
   "id": "42f1da42",
   "metadata": {},
   "outputs": [],
   "source": [
    "df = data_loader('train.csv')\n",
    "df.to_csv('cleaned_data.csv')"
   ]
  }
 ],
 "metadata": {
  "kernelspec": {
   "display_name": "py38",
   "language": "python",
   "name": "py38"
  },
  "language_info": {
   "codemirror_mode": {
    "name": "ipython",
    "version": 3
   },
   "file_extension": ".py",
   "mimetype": "text/x-python",
   "name": "python",
   "nbconvert_exporter": "python",
   "pygments_lexer": "ipython3",
   "version": "3.8.10"
  }
 },
 "nbformat": 4,
 "nbformat_minor": 5
}
