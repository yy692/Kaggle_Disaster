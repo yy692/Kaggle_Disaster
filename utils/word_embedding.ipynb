{
 "cells": [
  {
   "cell_type": "code",
   "execution_count": 1,
   "id": "fdf81fa0",
   "metadata": {},
   "outputs": [],
   "source": [
    "import pandas as pd\n",
    "import re\n",
    "import nltk\n",
    "from nltk.tokenize import wordpunct_tokenize\n",
    "import numpy as np"
   ]
  },
  {
   "cell_type": "code",
   "execution_count": 2,
   "id": "9cfca3d5",
   "metadata": {},
   "outputs": [
    {
     "name": "stderr",
     "output_type": "stream",
     "text": [
      "[nltk_data] Downloading package stopwords to\n",
      "[nltk_data]     C:\\Users\\Tojune\\AppData\\Roaming\\nltk_data...\n",
      "[nltk_data]   Package stopwords is already up-to-date!\n"
     ]
    },
    {
     "data": {
      "text/plain": [
       "True"
      ]
     },
     "execution_count": 2,
     "metadata": {},
     "output_type": "execute_result"
    }
   ],
   "source": [
    "from nltk.corpus import stopwords\n",
    "nltk.download('stopwords')"
   ]
  },
  {
   "cell_type": "code",
   "execution_count": 3,
   "id": "108d8e70",
   "metadata": {},
   "outputs": [
    {
     "name": "stderr",
     "output_type": "stream",
     "text": [
      "[nltk_data] Downloading package wordnet to\n",
      "[nltk_data]     C:\\Users\\Tojune\\AppData\\Roaming\\nltk_data...\n",
      "[nltk_data]   Package wordnet is already up-to-date!\n"
     ]
    },
    {
     "data": {
      "text/plain": [
       "True"
      ]
     },
     "execution_count": 3,
     "metadata": {},
     "output_type": "execute_result"
    }
   ],
   "source": [
    "from nltk.stem.wordnet import WordNetLemmatizer\n",
    "nltk.download('wordnet')"
   ]
  },
  {
   "cell_type": "code",
   "execution_count": 4,
   "id": "6451d311",
   "metadata": {},
   "outputs": [],
   "source": [
    "df = pd.read_csv('cleaned_data_jt.csv')\n",
    "clean_txt = df['clean_text_jt'].tolist()\n",
    "txt_id = df['id'].tolist()\n",
    "target = df['target'].tolist()"
   ]
  },
  {
   "cell_type": "code",
   "execution_count": 5,
   "id": "33846ff1",
   "metadata": {},
   "outputs": [],
   "source": [
    "def tokenize_and_lemmatize(txt_data):\n",
    "    #This function tokenizes and lemmatizes the raw text data\n",
    "    #Input: a list of strings\n",
    "    #Output: a list of token lists\n",
    "    #tokenize\n",
    "    token_mat = []\n",
    "    for txt in clean_txt:\n",
    "        token_list = wordpunct_tokenize(txt)\n",
    "        token_mat.append(token_list)\n",
    "        \n",
    "    stop_words = set(stopwords.words('english'))\n",
    "    #lemmatize    \n",
    "    lem_token_mat = []\n",
    "    lemmatizer = WordNetLemmatizer()\n",
    "    for token_list in token_mat:\n",
    "        #remove stop words\n",
    "        lem_token_list = [w for w in token_list if not w in stop_words]\n",
    "        #lemmatize nouns \n",
    "        lem_token_list = [lemmatizer.lemmatize(w) for w in lem_token_list]\n",
    "        #lemmatize verbs\n",
    "        lem_token_list = [lemmatizer.lemmatize(w, pos = 'v') for w in lem_token_list]\n",
    "        #lemmatize adjs (omitted)\n",
    "        \n",
    "        lem_token_mat.append(lem_token_list)\n",
    "    \n",
    "    return lem_token_mat"
   ]
  },
  {
   "cell_type": "code",
   "execution_count": 6,
   "id": "012ba627",
   "metadata": {},
   "outputs": [],
   "source": [
    "lem_token_mat = tokenize_and_lemmatize(clean_txt)"
   ]
  },
  {
   "cell_type": "code",
   "execution_count": 7,
   "id": "bebf9165",
   "metadata": {},
   "outputs": [],
   "source": [
    "def vocabulary_builder(token_mat):\n",
    "    #This function builds a vocabulary based on a tokenized dataset\n",
    "    #Input: a list of token lists\n",
    "    #output: a dictionary key:token, value: id\n",
    "    vocabulary = {}\n",
    "    index = 0\n",
    "    for token_list in token_mat:\n",
    "        for token in token_list:\n",
    "            if token not in vocabulary:\n",
    "                vocabulary[token] = index\n",
    "                index += 1\n",
    "    return vocabulary"
   ]
  },
  {
   "cell_type": "code",
   "execution_count": 8,
   "id": "54aa7677",
   "metadata": {},
   "outputs": [],
   "source": [
    "vocabulary = vocabulary_builder(lem_token_mat)"
   ]
  },
  {
   "cell_type": "code",
   "execution_count": 9,
   "id": "83c3aff0",
   "metadata": {},
   "outputs": [
    {
     "name": "stderr",
     "output_type": "stream",
     "text": [
      "C:\\Users\\Tojune\\anaconda3\\envs\\py38\\lib\\site-packages\\gensim\\similarities\\__init__.py:15: UserWarning: The gensim.similarities.levenshtein submodule is disabled, because the optional Levenshtein package <https://pypi.org/project/python-Levenshtein/> is unavailable. Install Levenhstein (e.g. `pip install python-Levenshtein`) to suppress this warning.\n",
      "  warnings.warn(msg)\n"
     ]
    }
   ],
   "source": [
    "#download a pre-trained model using gensim's api\n",
    "import gensim.downloader as api\n",
    "embedding_model = api.load(\"glove-twitter-50\")"
   ]
  },
  {
   "cell_type": "code",
   "execution_count": 98,
   "id": "9dbf47b2",
   "metadata": {},
   "outputs": [],
   "source": [
    "def word_embedding(token_mat):\n",
    "    #Input: a list of token lists\n",
    "    #Output: a list of vector list\n",
    "    vec_mat = []\n",
    "    for token_list in token_mat:\n",
    "        vect_list = []\n",
    "        token_num = 0\n",
    "        for token in token_list:\n",
    "            #If the token is in the vocabulary (of pre-trained model), then vectorize it and count it. Otherwise, the token is omitted)\n",
    "            if token in embedding_model:\n",
    "                vect_list.append(embedding_model[token])\n",
    "                token_num += 1\n",
    "        #Store the list of vectors\n",
    "        vec_mat.append(vect_list)\n",
    "\n",
    "    return vec_mat"
   ]
  },
  {
   "cell_type": "code",
   "execution_count": 99,
   "id": "58c32d75",
   "metadata": {},
   "outputs": [],
   "source": [
    "vec_mat = word_embedding(lem_token_mat)"
   ]
  },
  {
   "cell_type": "code",
   "execution_count": 93,
   "id": "6184185b",
   "metadata": {},
   "outputs": [],
   "source": [
    "def word_embedding_for_storage(token_mat):\n",
    "    #Input: a list of token lists\n",
    "    #Output: a list of concatenated vectors\n",
    "    vec_mat = []\n",
    "    for token_list in token_mat:\n",
    "        vect_list = []\n",
    "        token_num = 0\n",
    "        for token in token_list:\n",
    "            #If the token is in the vocabulary (of pre-trained model), then vectorize it and count it. Otherwise, the token is omitted)\n",
    "            if token in embedding_model:\n",
    "                vect_list.append(embedding_model[token])\n",
    "                token_num += 1\n",
    "        #The vectors (50 in length) of the tokens are concatenated to form a longer vector of length token_num*50\n",
    "        vect_list = np.reshape(vect_list, (token_num*50,))\n",
    "        #store the number of tokens at the end of the list\n",
    "        np.append(vect_list, token_num)\n",
    "        #Store the concatenated vector\n",
    "        vec_mat.append(vect_list)\n",
    "    \n",
    "    print(len(vec_mat))\n",
    "    return vec_mat"
   ]
  },
  {
   "cell_type": "code",
   "execution_count": 94,
   "id": "12f30186",
   "metadata": {},
   "outputs": [],
   "source": [
    "def save_vectors_to_csv(vec_mat):\n",
    "    with open('vectorized_data_jt.csv', 'w') as file:\n",
    "        for vec in vec_mat:\n",
    "            file.writeline(vec)\n",
    "    return"
   ]
  },
  {
   "cell_type": "code",
   "execution_count": 95,
   "id": "d689ba1c",
   "metadata": {},
   "outputs": [
    {
     "name": "stdout",
     "output_type": "stream",
     "text": [
      "7613\n"
     ]
    },
    {
     "ename": "AttributeError",
     "evalue": "'_io.TextIOWrapper' object has no attribute 'writeline'",
     "output_type": "error",
     "traceback": [
      "\u001b[1;31m---------------------------------------------------------------------------\u001b[0m",
      "\u001b[1;31mAttributeError\u001b[0m                            Traceback (most recent call last)",
      "\u001b[1;32m<ipython-input-95-3c8882ea48ad>\u001b[0m in \u001b[0;36m<module>\u001b[1;34m\u001b[0m\n\u001b[0;32m      1\u001b[0m \u001b[0mvec_mat\u001b[0m \u001b[1;33m=\u001b[0m \u001b[0mword_embedding\u001b[0m\u001b[1;33m(\u001b[0m\u001b[0mlem_token_mat\u001b[0m\u001b[1;33m)\u001b[0m\u001b[1;33m\u001b[0m\u001b[1;33m\u001b[0m\u001b[0m\n\u001b[0;32m      2\u001b[0m \u001b[1;33m\u001b[0m\u001b[0m\n\u001b[1;32m----> 3\u001b[1;33m \u001b[0msave_vectors_to_csv\u001b[0m\u001b[1;33m(\u001b[0m\u001b[0mvec_mat\u001b[0m\u001b[1;33m)\u001b[0m\u001b[1;33m\u001b[0m\u001b[1;33m\u001b[0m\u001b[0m\n\u001b[0m",
      "\u001b[1;32m<ipython-input-94-e822431ced51>\u001b[0m in \u001b[0;36msave_vectors_to_csv\u001b[1;34m(vec_mat)\u001b[0m\n\u001b[0;32m      2\u001b[0m     \u001b[1;32mwith\u001b[0m \u001b[0mopen\u001b[0m\u001b[1;33m(\u001b[0m\u001b[1;34m'vectorized_data_jt.csv'\u001b[0m\u001b[1;33m,\u001b[0m \u001b[1;34m'w'\u001b[0m\u001b[1;33m)\u001b[0m \u001b[1;32mas\u001b[0m \u001b[0mfile\u001b[0m\u001b[1;33m:\u001b[0m\u001b[1;33m\u001b[0m\u001b[1;33m\u001b[0m\u001b[0m\n\u001b[0;32m      3\u001b[0m         \u001b[1;32mfor\u001b[0m \u001b[0mvec\u001b[0m \u001b[1;32min\u001b[0m \u001b[0mvec_mat\u001b[0m\u001b[1;33m:\u001b[0m\u001b[1;33m\u001b[0m\u001b[1;33m\u001b[0m\u001b[0m\n\u001b[1;32m----> 4\u001b[1;33m             \u001b[0mfile\u001b[0m\u001b[1;33m.\u001b[0m\u001b[0mwriteline\u001b[0m\u001b[1;33m(\u001b[0m\u001b[0mvec\u001b[0m\u001b[1;33m)\u001b[0m\u001b[1;33m\u001b[0m\u001b[1;33m\u001b[0m\u001b[0m\n\u001b[0m\u001b[0;32m      5\u001b[0m     \u001b[1;32mreturn\u001b[0m\u001b[1;33m\u001b[0m\u001b[1;33m\u001b[0m\u001b[0m\n",
      "\u001b[1;31mAttributeError\u001b[0m: '_io.TextIOWrapper' object has no attribute 'writeline'"
     ]
    }
   ],
   "source": [
    "vec_mat = word_embedding(lem_token_mat)\n",
    "save_vectors_to_csv(vec_mat)"
   ]
  },
  {
   "cell_type": "code",
   "execution_count": 22,
   "id": "9539c227",
   "metadata": {},
   "outputs": [
    {
     "name": "stdout",
     "output_type": "stream",
     "text": [
      "350\n",
      "7\n"
     ]
    }
   ],
   "source": [
    "vec_list = vec_mat[0]\n",
    "token_num = token_num_list[0]\n",
    "print(len(vec_list))\n",
    "print(token_num)"
   ]
  },
  {
   "cell_type": "code",
   "execution_count": 67,
   "id": "531731b0",
   "metadata": {},
   "outputs": [],
   "source": [
    "def load_vectors(filename):\n",
    "    data = np.genfromtxt(filename)\n",
    "    X = np.asarray([])\n",
    "    for vec_list in data:\n",
    "        token_num = vec_list[-1]\n",
    "        vectors = np.reshape(vec_list[:-1], (token_num,50))\n",
    "        np.append(X, vectors)\n",
    "    \n",
    "    return X"
   ]
  },
  {
   "cell_type": "code",
   "execution_count": 68,
   "id": "1ef39124",
   "metadata": {},
   "outputs": [
    {
     "name": "stderr",
     "output_type": "stream",
     "text": [
      "<ipython-input-67-8ee6001cf3ed>:2: UserWarning: genfromtxt: Empty input file: \"vectorized_data_jt.csv\"\n",
      "  data = np.genfromtxt(filename)\n"
     ]
    }
   ],
   "source": [
    "X= load_vectors('vectorized_data_jt.csv')"
   ]
  },
  {
   "cell_type": "code",
   "execution_count": 70,
   "id": "6e532ac3",
   "metadata": {},
   "outputs": [
    {
     "name": "stdout",
     "output_type": "stream",
     "text": [
      "0\n"
     ]
    }
   ],
   "source": [
    "print(len(X))"
   ]
  }
 ],
 "metadata": {
  "kernelspec": {
   "display_name": "py38",
   "language": "python",
   "name": "py38"
  },
  "language_info": {
   "codemirror_mode": {
    "name": "ipython",
    "version": 3
   },
   "file_extension": ".py",
   "mimetype": "text/x-python",
   "name": "python",
   "nbconvert_exporter": "python",
   "pygments_lexer": "ipython3",
   "version": "3.8.10"
  }
 },
 "nbformat": 4,
 "nbformat_minor": 5
}
